{
 "cells": [
  {
   "cell_type": "code",
   "execution_count": 17,
   "metadata": {},
   "outputs": [],
   "source": [
    "import csv\n",
    "import random"
   ]
  },
  {
   "cell_type": "code",
   "execution_count": 30,
   "metadata": {},
   "outputs": [
    {
     "name": "stdout",
     "output_type": "stream",
     "text": [
      "[['Christopher Edgecombe', '6199857640101735323'], ['Anusha Vanama', '-1797989270649470277'], ['Jackie Cuong', '5769483329530745425'], ['Student', 'Hash_id'], ['Jorge Salas', '455657944666492550']]\n",
      "[['Ioannis Batsios', '3935875508609012725'], ['Kun Yang', '2563187256803808469'], ['Naseeb Thapaliya', '-5285248223491365467'], ['Daniel Foster', '6764292987690706695'], ['Hieu Vo', '1493112895152592131']]\n",
      "[['William Downs', '336891139488150869'], ['Harini Booravalli Suresh', '-4093258774299285144'], ['John Weber', '2836559261835779102'], ['Sultan Al bogami', '3949768801884845523'], ['Dimithra Ratnayake', '-1632657826008984490']]\n",
      "[['Christopher Thacker', '-3902187348021919782'], ['Byungjin Kang', '-5748223395222085748'], ['Sahithi Vanteru', '-2799127417815973688'], ['Jeremy Hudson', '-6272853571550332958'], ['Seth Goodwin', '259212972574503367']]\n",
      "[['Matthew Moretz', '6222526768225508173'], ['Shah Nafis Rafique', '-3883714585606695496'], ['James Polk', '6866171654675246582'], ['Gabriel Wilmoth', '7677876049958771061'], ['Henry Reichard', '-2886551810478985348']]\n"
     ]
    }
   ],
   "source": [
    "with open('./students.csv','r') as csv_file:\n",
    "    reader = csv.reader(csv_file)\n",
    "    studentList = list(reader)\n",
    "    del studentList[0]\n",
    "    random.shuffle(studentList)\n",
    "    numbersOfGroups = 6\n",
    "    remainingMembers = len(studentList)%numbersOfGroups\n",
    "    groupsList = []\n",
    "    firstIterationOfStudents = len(studentList)/numbersOfGroups\n",
    "    counter = 0\n",
    "    for i in range(numbersOfGroups):\n",
    "        group = []\n",
    "        for j in range(firstIterationOfStudents):\n",
    "            group.append(studentList[0])\n",
    "            del studentList[0]\n",
    "            if j == firstIterationOfStudents-1:\n",
    "                groupsList.append(group)\n",
    "    \n",
    "    for i in range(remainingMembers):\n",
    "        print(groupsList[i])\n",
    "    "
   ]
  },
  {
   "cell_type": "code",
   "execution_count": null,
   "metadata": {},
   "outputs": [],
   "source": []
  },
  {
   "cell_type": "code",
   "execution_count": null,
   "metadata": {},
   "outputs": [],
   "source": []
  },
  {
   "cell_type": "code",
   "execution_count": null,
   "metadata": {},
   "outputs": [],
   "source": []
  },
  {
   "cell_type": "code",
   "execution_count": null,
   "metadata": {},
   "outputs": [],
   "source": []
  },
  {
   "cell_type": "code",
   "execution_count": null,
   "metadata": {},
   "outputs": [],
   "source": []
  },
  {
   "cell_type": "code",
   "execution_count": null,
   "metadata": {},
   "outputs": [],
   "source": []
  },
  {
   "cell_type": "code",
   "execution_count": null,
   "metadata": {},
   "outputs": [],
   "source": []
  },
  {
   "cell_type": "code",
   "execution_count": null,
   "metadata": {},
   "outputs": [],
   "source": []
  },
  {
   "cell_type": "code",
   "execution_count": null,
   "metadata": {},
   "outputs": [],
   "source": []
  },
  {
   "cell_type": "code",
   "execution_count": null,
   "metadata": {},
   "outputs": [],
   "source": []
  },
  {
   "cell_type": "code",
   "execution_count": null,
   "metadata": {},
   "outputs": [],
   "source": []
  },
  {
   "cell_type": "code",
   "execution_count": null,
   "metadata": {},
   "outputs": [],
   "source": []
  },
  {
   "cell_type": "code",
   "execution_count": null,
   "metadata": {},
   "outputs": [],
   "source": []
  },
  {
   "cell_type": "code",
   "execution_count": null,
   "metadata": {},
   "outputs": [],
   "source": []
  },
  {
   "cell_type": "code",
   "execution_count": null,
   "metadata": {},
   "outputs": [],
   "source": []
  },
  {
   "cell_type": "code",
   "execution_count": null,
   "metadata": {},
   "outputs": [],
   "source": []
  },
  {
   "cell_type": "code",
   "execution_count": null,
   "metadata": {},
   "outputs": [],
   "source": []
  },
  {
   "cell_type": "code",
   "execution_count": null,
   "metadata": {},
   "outputs": [],
   "source": []
  },
  {
   "cell_type": "code",
   "execution_count": null,
   "metadata": {},
   "outputs": [],
   "source": []
  },
  {
   "cell_type": "code",
   "execution_count": null,
   "metadata": {},
   "outputs": [],
   "source": []
  },
  {
   "cell_type": "code",
   "execution_count": null,
   "metadata": {},
   "outputs": [],
   "source": []
  },
  {
   "cell_type": "code",
   "execution_count": null,
   "metadata": {},
   "outputs": [],
   "source": []
  },
  {
   "cell_type": "code",
   "execution_count": null,
   "metadata": {},
   "outputs": [],
   "source": []
  },
  {
   "cell_type": "code",
   "execution_count": null,
   "metadata": {},
   "outputs": [],
   "source": []
  },
  {
   "cell_type": "code",
   "execution_count": null,
   "metadata": {},
   "outputs": [],
   "source": []
  },
  {
   "cell_type": "code",
   "execution_count": null,
   "metadata": {},
   "outputs": [],
   "source": []
  }
 ],
 "metadata": {
  "kernelspec": {
   "display_name": "Python 2",
   "language": "python",
   "name": "python2"
  },
  "language_info": {
   "codemirror_mode": {
    "name": "ipython",
    "version": 2
   },
   "file_extension": ".py",
   "mimetype": "text/x-python",
   "name": "python",
   "nbconvert_exporter": "python",
   "pygments_lexer": "ipython2",
   "version": "2.7.16"
  }
 },
 "nbformat": 4,
 "nbformat_minor": 2
}
