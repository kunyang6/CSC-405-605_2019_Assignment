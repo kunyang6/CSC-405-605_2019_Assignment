{
 "cells": [
  {
   "cell_type": "code",
   "execution_count": 4,
   "metadata": {},
   "outputs": [
    {
     "name": "stdout",
     "output_type": "stream",
     "text": [
      "[['Unnati Khivasara', '6259802738933602461'], ['Jaron Dunham', '3889088399491561781'], ['William Downs', '336891139488150869'], ['Henry Reichard', '-2886551810478985348'], ['Wahab Ehsan', '2518675181136625693'], ['Rinty Chowdhury', '1583776007752598970'], ['Anusha Vanama', '-1797989270649470277'], ['Christopher Edgecombe', '6199857640101735323'], ['Jackie Cuong', '5769483329530745425']]\n",
      "\n",
      "\n",
      "[['Miguel Gaspar Utrera', '493454735766240990'], ['Jorge Salas', '455657944666492550'], ['Rohit Reddy Gade', '-4623969955760145159'], ['Byungjin Kang', '-5748223395222085748'], ['Seth Goodwin', '259212972574503367'], ['John Weber', '2836559261835779102'], ['Dimithra Ratnayake', '-1632657826008984490'], ['Christopher Thacker', '-3902187348021919782'], ['Akash Meghani', '-2242847958711309170']]\n",
      "\n",
      "\n",
      "[['Gabriel Wilmoth', '7677876049958771061'], ['Sultan Al bogami', '3949768801884845523'], ['Harini Booravalli Suresh', '-4093258774299285144'], ['Jeremy Hudson', '-6272853571550332958'], ['Matthew Moretz', '6222526768225508173'], ['Daniel Foster', '6764292987690706695'], ['Kun Yang', '2563187256803808469'], ['Hieu Vo', '1493112895152592131'], ['lavanya Goluguri', '1711906030537001898']]\n",
      "\n",
      "\n",
      "[['James Polk', '6866171654675246582'], ['Michael Follari', '6810089603355070317'], ['Shah Nafis Rafique', '-3883714585606695496'], ['Jamie Weathers', '7494716666415913531'], ['Ioannis Batsios', '3935875508609012725'], ['Daniel Frye', '-2809269155154333602'], ['Naseeb Thapaliya', '-5285248223491365467'], ['Sahithi Vanteru', '-2799127417815973688']]\n",
      "\n",
      "\n"
     ]
    }
   ],
   "source": [
    "import csv\n",
    "import random\n",
    "with open('../data/students.csv','r') as csv_file:\n",
    "    \"\"\"\n",
    "    this code reads the csv file\n",
    "    \"\"\"\n",
    "    reader = csv.reader(csv_file)\n",
    "    \"\"\"\"\n",
    "    this turns the csv file into a list\n",
    "    \"\"\"\n",
    "    studentList = list(reader)\n",
    "    \"\"\"\n",
    "    This will delete the header for the list\n",
    "    \"\"\"\n",
    "    del studentList[0]\n",
    "    random.shuffle(studentList)\n",
    "    \"\"\"\"\n",
    "    This is the variable for number of groups\n",
    "    \"\"\"\"\n",
    "    numbersOfGroups = 4\n",
    "    remainingMembers = len(studentList)%numbersOfGroups\n",
    "    groupsList = []\n",
    "    firstIterationOfStudents = len(studentList)/numbersOfGroups\n",
    "    for i in range(numbersOfGroups):\n",
    "        group = []\n",
    "        for j in range(firstIterationOfStudents):\n",
    "            group.append(studentList[0])\n",
    "            del studentList[0]\n",
    "            if j == firstIterationOfStudents-1:\n",
    "                groupsList.append(group)\n",
    "    for i in range(remainingMembers):\n",
    "        groupsList[i].append(studentList[0])\n",
    "        del studentList[0]\n",
    "    for group in groupsList:\n",
    "        print(group)\n",
    "        print(\"\\n\")"
   ]
  },
  {
   "cell_type": "code",
   "execution_count": null,
   "metadata": {},
   "outputs": [],
   "source": []
  },
  {
   "cell_type": "code",
   "execution_count": null,
   "metadata": {},
   "outputs": [],
   "source": []
  },
  {
   "cell_type": "code",
   "execution_count": null,
   "metadata": {},
   "outputs": [],
   "source": []
  },
  {
   "cell_type": "code",
   "execution_count": null,
   "metadata": {},
   "outputs": [],
   "source": []
  },
  {
   "cell_type": "code",
   "execution_count": null,
   "metadata": {},
   "outputs": [],
   "source": []
  },
  {
   "cell_type": "code",
   "execution_count": null,
   "metadata": {},
   "outputs": [],
   "source": []
  },
  {
   "cell_type": "code",
   "execution_count": null,
   "metadata": {},
   "outputs": [],
   "source": []
  },
  {
   "cell_type": "code",
   "execution_count": null,
   "metadata": {},
   "outputs": [],
   "source": []
  },
  {
   "cell_type": "code",
   "execution_count": null,
   "metadata": {},
   "outputs": [],
   "source": []
  },
  {
   "cell_type": "code",
   "execution_count": null,
   "metadata": {},
   "outputs": [],
   "source": []
  },
  {
   "cell_type": "code",
   "execution_count": null,
   "metadata": {},
   "outputs": [],
   "source": []
  },
  {
   "cell_type": "code",
   "execution_count": null,
   "metadata": {},
   "outputs": [],
   "source": []
  },
  {
   "cell_type": "code",
   "execution_count": null,
   "metadata": {},
   "outputs": [],
   "source": []
  },
  {
   "cell_type": "code",
   "execution_count": null,
   "metadata": {},
   "outputs": [],
   "source": []
  },
  {
   "cell_type": "code",
   "execution_count": null,
   "metadata": {},
   "outputs": [],
   "source": []
  },
  {
   "cell_type": "code",
   "execution_count": null,
   "metadata": {},
   "outputs": [],
   "source": []
  },
  {
   "cell_type": "code",
   "execution_count": null,
   "metadata": {},
   "outputs": [],
   "source": []
  },
  {
   "cell_type": "code",
   "execution_count": null,
   "metadata": {},
   "outputs": [],
   "source": []
  },
  {
   "cell_type": "code",
   "execution_count": null,
   "metadata": {},
   "outputs": [],
   "source": []
  },
  {
   "cell_type": "code",
   "execution_count": null,
   "metadata": {},
   "outputs": [],
   "source": []
  },
  {
   "cell_type": "code",
   "execution_count": null,
   "metadata": {},
   "outputs": [],
   "source": []
  },
  {
   "cell_type": "code",
   "execution_count": null,
   "metadata": {},
   "outputs": [],
   "source": []
  },
  {
   "cell_type": "code",
   "execution_count": null,
   "metadata": {},
   "outputs": [],
   "source": []
  },
  {
   "cell_type": "code",
   "execution_count": null,
   "metadata": {},
   "outputs": [],
   "source": []
  },
  {
   "cell_type": "code",
   "execution_count": null,
   "metadata": {},
   "outputs": [],
   "source": []
  },
  {
   "cell_type": "code",
   "execution_count": null,
   "metadata": {},
   "outputs": [],
   "source": []
  },
  {
   "cell_type": "code",
   "execution_count": null,
   "metadata": {},
   "outputs": [],
   "source": []
  },
  {
   "cell_type": "code",
   "execution_count": null,
   "metadata": {},
   "outputs": [],
   "source": []
  },
  {
   "cell_type": "code",
   "execution_count": null,
   "metadata": {},
   "outputs": [],
   "source": []
  },
  {
   "cell_type": "code",
   "execution_count": null,
   "metadata": {},
   "outputs": [],
   "source": []
  },
  {
   "cell_type": "code",
   "execution_count": null,
   "metadata": {},
   "outputs": [],
   "source": []
  },
  {
   "cell_type": "code",
   "execution_count": null,
   "metadata": {},
   "outputs": [],
   "source": []
  },
  {
   "cell_type": "code",
   "execution_count": null,
   "metadata": {},
   "outputs": [],
   "source": []
  },
  {
   "cell_type": "code",
   "execution_count": null,
   "metadata": {},
   "outputs": [],
   "source": []
  },
  {
   "cell_type": "code",
   "execution_count": null,
   "metadata": {},
   "outputs": [],
   "source": []
  },
  {
   "cell_type": "code",
   "execution_count": null,
   "metadata": {},
   "outputs": [],
   "source": []
  },
  {
   "cell_type": "code",
   "execution_count": null,
   "metadata": {},
   "outputs": [],
   "source": []
  }
 ],
 "metadata": {
  "kernelspec": {
   "display_name": "Python 2",
   "language": "python",
   "name": "python2"
  },
  "language_info": {
   "codemirror_mode": {
    "name": "ipython",
    "version": 2
   },
   "file_extension": ".py",
   "mimetype": "text/x-python",
   "name": "python",
   "nbconvert_exporter": "python",
   "pygments_lexer": "ipython2",
   "version": "2.7.16"
  }
 },
 "nbformat": 4,
 "nbformat_minor": 2
}
